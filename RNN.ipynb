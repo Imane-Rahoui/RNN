{
 "cells": [
  {
   "cell_type": "code",
   "execution_count": 13,
   "id": "4eddac9d",
   "metadata": {
    "scrolled": true
   },
   "outputs": [
    {
     "name": "stdout",
     "output_type": "stream",
     "text": [
      "Collecting scikit-learn\n",
      "  Downloading scikit_learn-1.2.0-cp310-cp310-win_amd64.whl (8.2 MB)\n",
      "     ---------------------------------------- 8.2/8.2 MB 1.9 MB/s eta 0:00:00\n",
      "Requirement already satisfied: scipy>=1.3.2 in c:\\users\\imane\\anaconda3\\envs\\machinelearning\\lib\\site-packages (from scikit-learn) (1.9.3)\n",
      "Requirement already satisfied: numpy>=1.17.3 in c:\\users\\imane\\anaconda3\\envs\\machinelearning\\lib\\site-packages (from scikit-learn) (1.23.5)\n",
      "Collecting threadpoolctl>=2.0.0\n",
      "  Downloading threadpoolctl-3.1.0-py3-none-any.whl (14 kB)\n",
      "Collecting joblib>=1.1.1\n",
      "  Downloading joblib-1.2.0-py3-none-any.whl (297 kB)\n",
      "     -------------------------------------- 298.0/298.0 kB 1.5 MB/s eta 0:00:00\n",
      "Installing collected packages: threadpoolctl, joblib, scikit-learn\n",
      "Successfully installed joblib-1.2.0 scikit-learn-1.2.0 threadpoolctl-3.1.0\n"
     ]
    }
   ],
   "source": [
    "!pip install scikit-learn"
   ]
  },
  {
   "cell_type": "code",
   "execution_count": 15,
   "id": "46ab64b0",
   "metadata": {},
   "outputs": [
    {
     "name": "stdout",
     "output_type": "stream",
     "text": [
      "Collecting pandas\n",
      "  Downloading pandas-1.5.2-cp310-cp310-win_amd64.whl (10.4 MB)\n",
      "     -------------------------------------- 10.4/10.4 MB 413.2 kB/s eta 0:00:00\n",
      "Requirement already satisfied: numpy>=1.21.0 in c:\\users\\imane\\anaconda3\\envs\\machinelearning\\lib\\site-packages (from pandas) (1.23.5)\n",
      "Collecting pytz>=2020.1\n",
      "  Downloading pytz-2022.7.1-py2.py3-none-any.whl (499 kB)\n",
      "     ------------------------------------ 499.4/499.4 kB 497.1 kB/s eta 0:00:00\n",
      "Requirement already satisfied: python-dateutil>=2.8.1 in c:\\users\\imane\\anaconda3\\envs\\machinelearning\\lib\\site-packages (from pandas) (2.8.2)\n",
      "Requirement already satisfied: six>=1.5 in c:\\users\\imane\\anaconda3\\envs\\machinelearning\\lib\\site-packages (from python-dateutil>=2.8.1->pandas) (1.16.0)\n",
      "Installing collected packages: pytz, pandas\n",
      "Successfully installed pandas-1.5.2 pytz-2022.7.1\n"
     ]
    }
   ],
   "source": [
    "!pip install pandas"
   ]
  },
  {
   "cell_type": "code",
   "execution_count": 29,
   "id": "0db8de12",
   "metadata": {},
   "outputs": [],
   "source": [
    "from keras.models import Sequential\n",
    "from keras.layers import LSTM\n",
    "from keras.layers import Dropout\n",
    "from keras.layers import Dense\n",
    "from sklearn.preprocessing import MinMaxScaler\n",
    "import numpy as np\n",
    "import matplotlib.pyplot as plt\n",
    "import pandas as pd"
   ]
  },
  {
   "cell_type": "code",
   "execution_count": 30,
   "id": "888a4bb8",
   "metadata": {},
   "outputs": [
    {
     "name": "stdout",
     "output_type": "stream",
     "text": [
      "[[0.6202352 ]\n",
      " [0.62226277]\n",
      " [0.64436334]\n",
      " ...\n",
      " [0.16504461]\n",
      " [0.15896188]\n",
      " [0.16626115]]\n",
      "(2035, 1)\n"
     ]
    }
   ],
   "source": [
    "\n",
    "url = 'https://raw.githubusercontent.com/mwitiderrick/stockprice/master/NSE-TATAGLOBAL.csv'\n",
    "dataset_train = pd.read_csv(url)\n",
    "training_set = dataset_train.iloc[:, 1:2].values #data frame #: ya3ni ts les elements #opening sf 1:2 drna 1:2 bach urjea array et non pas vector\n",
    "#Transform features by scaling each feature to a given range.\n",
    "sc = MinMaxScaler(feature_range=(0,1)) #normaliser pr ne pas avoir de grandes valeurs #minmaxscaler mets en echelle interval bin 0 et 1 \n",
    "training_set_scaled = sc.fit_transform(training_set) #appliquer hadik transformation ela l values \n",
    "print(training_set_scaled)\n",
    "print(training_set_scaled.shape) #2035 lignes 1 colonne \n",
    "#les entrees de mon reseau de neurone \n",
    "\t#input tableau de 3 dimensiions (batch,)#batch shhal mn ligne 1975 / nbr seque 60 / feature 1\n",
    "X_train = []\n",
    "y_train = []\n",
    "\n",
    "\n",
    "for i in range(60, 2035):\n",
    "    X_train.append(training_set_scaled[i-60:i, 0]) #raybda b 60 60-60 = 0 à 60 apres mn 1975 tal 2035\n",
    "    y_train.append(training_set_scaled[i, 0]) #raycomparer mea les res li aslan endna\n",
    "X_train, y_train = np.array(X_train), np.array(y_train)# khas tableau numpy\n",
    "#1975 observation / tahuwa mn 60 l 2034 \n",
    "X_train = np.reshape(X_train, (X_train.shape[0], X_train.shape[1], 1)) #0 f lowla huwa 1975 u tani nbr de colonne huwa 60  #feature wahd dakshi elash\n",
    "model = Sequential()"
   ]
  },
  {
   "cell_type": "code",
   "execution_count": 31,
   "id": "94b2321c",
   "metadata": {},
   "outputs": [],
   "source": [
    "\n",
    "model.add(LSTM(units=50,return_sequences=True,input_shape=(X_train.shape[1], 1)))\n",
    "# couche LSTM  unit hiya nbr de neurone 50 , true hit mzl endna LSTM mn bead , 60 , 1 feature , batch huwa kiearfu buhdu \n",
    "model.add(Dropout(0.2)) #exp wakha 99 accuracy - khas tshuf data jdida bach nearf wash dik accuracy mzyana \n",
    "#khas model iearf f nvlle data \n",
    "#over fitting : tqra bzffff bonne accuracy f data d apprentissage ms f de test mfeddiiii  \n",
    "#drop out ray7yd des neurones aleatoirement \n",
    "#iil va s entrainer bla duk neurones aytealm ljadid ==> kanhyd lih les fortes correlations \n",
    "model.add(LSTM(units=50,return_sequences=True))\n",
    "model.add(Dropout(0.2)) # 20%\n",
    "\n",
    "model.add(LSTM(units=50,return_sequences=True))\n",
    "model.add(Dropout(0.2))\n",
    "\n",
    "model.add(LSTM(units=50))\n",
    "model.add(Dropout(0.2))\n",
    "\n",
    "model.add(Dense(units=1)) #dima output / une seule val de sortie dyal nhal li mora # dik 1 zeama il va predire 1 hiya opening \n",
    "\n",
    "model.compile(optimizer='adam',loss='mean_squared_error')"
   ]
  },
  {
   "cell_type": "code",
   "execution_count": 33,
   "id": "290c4506",
   "metadata": {},
   "outputs": [
    {
     "name": "stdout",
     "output_type": "stream",
     "text": [
      "Epoch 1/50\n",
      "62/62 [==============================] - 11s 181ms/step - loss: 0.0025\n",
      "Epoch 2/50\n",
      "62/62 [==============================] - 12s 200ms/step - loss: 0.0022\n",
      "Epoch 3/50\n",
      "62/62 [==============================] - 13s 202ms/step - loss: 0.0023\n",
      "Epoch 4/50\n",
      "62/62 [==============================] - 11s 180ms/step - loss: 0.0023\n",
      "Epoch 5/50\n",
      "62/62 [==============================] - 11s 181ms/step - loss: 0.0019\n",
      "Epoch 6/50\n",
      "62/62 [==============================] - 12s 186ms/step - loss: 0.0020\n",
      "Epoch 7/50\n",
      "62/62 [==============================] - 11s 186ms/step - loss: 0.0016\n",
      "Epoch 8/50\n",
      "62/62 [==============================] - 11s 178ms/step - loss: 0.0019\n",
      "Epoch 9/50\n",
      "62/62 [==============================] - 11s 178ms/step - loss: 0.0016\n",
      "Epoch 10/50\n",
      "62/62 [==============================] - 12s 186ms/step - loss: 0.0016\n",
      "Epoch 11/50\n",
      "62/62 [==============================] - 11s 177ms/step - loss: 0.0017\n",
      "Epoch 12/50\n",
      "62/62 [==============================] - 11s 178ms/step - loss: 0.0017\n",
      "Epoch 13/50\n",
      "62/62 [==============================] - 12s 189ms/step - loss: 0.0015\n",
      "Epoch 14/50\n",
      "62/62 [==============================] - 11s 183ms/step - loss: 0.0014\n",
      "Epoch 15/50\n",
      "62/62 [==============================] - 11s 171ms/step - loss: 0.0015\n",
      "Epoch 16/50\n",
      "62/62 [==============================] - 11s 180ms/step - loss: 0.0015\n",
      "Epoch 17/50\n",
      "62/62 [==============================] - 12s 188ms/step - loss: 0.0015\n",
      "Epoch 18/50\n",
      "62/62 [==============================] - 11s 177ms/step - loss: 0.0013\n",
      "Epoch 19/50\n",
      "62/62 [==============================] - 11s 177ms/step - loss: 0.0014\n",
      "Epoch 20/50\n",
      "62/62 [==============================] - 12s 191ms/step - loss: 0.0015\n",
      "Epoch 21/50\n",
      "62/62 [==============================] - 11s 180ms/step - loss: 0.0013\n",
      "Epoch 22/50\n",
      "62/62 [==============================] - 11s 180ms/step - loss: 0.0015\n",
      "Epoch 23/50\n",
      "62/62 [==============================] - 12s 186ms/step - loss: 0.0012\n",
      "Epoch 24/50\n",
      "62/62 [==============================] - 11s 184ms/step - loss: 0.0011\n",
      "Epoch 25/50\n",
      "62/62 [==============================] - 11s 178ms/step - loss: 0.0011\n",
      "Epoch 26/50\n",
      "62/62 [==============================] - 11s 180ms/step - loss: 0.0011\n",
      "Epoch 27/50\n",
      "62/62 [==============================] - 12s 192ms/step - loss: 0.0012\n",
      "Epoch 28/50\n",
      "62/62 [==============================] - 11s 178ms/step - loss: 0.0011\n",
      "Epoch 29/50\n",
      "62/62 [==============================] - 11s 178ms/step - loss: 0.0012\n",
      "Epoch 30/50\n",
      "62/62 [==============================] - 12s 188ms/step - loss: 9.7313e-04\n",
      "Epoch 31/50\n",
      "62/62 [==============================] - 11s 178ms/step - loss: 0.0010\n",
      "Epoch 32/50\n",
      "62/62 [==============================] - 11s 178ms/step - loss: 0.0011\n",
      "Epoch 33/50\n",
      "62/62 [==============================] - 11s 183ms/step - loss: 9.8558e-04\n",
      "Epoch 34/50\n",
      "62/62 [==============================] - 12s 187ms/step - loss: 0.0010\n",
      "Epoch 35/50\n",
      "62/62 [==============================] - 11s 177ms/step - loss: 8.9825e-04\n",
      "Epoch 36/50\n",
      "62/62 [==============================] - 11s 180ms/step - loss: 8.0550e-04\n",
      "Epoch 37/50\n",
      "62/62 [==============================] - 12s 190ms/step - loss: 9.3865e-04\n",
      "Epoch 38/50\n",
      "62/62 [==============================] - 11s 180ms/step - loss: 8.9859e-04\n",
      "Epoch 39/50\n",
      "62/62 [==============================] - 11s 183ms/step - loss: 0.0011\n",
      "Epoch 40/50\n",
      "62/62 [==============================] - 12s 188ms/step - loss: 9.5301e-04\n",
      "Epoch 41/50\n",
      "62/62 [==============================] - 11s 185ms/step - loss: 9.1265e-04\n",
      "Epoch 42/50\n",
      "62/62 [==============================] - 11s 178ms/step - loss: 8.8994e-04\n",
      "Epoch 43/50\n",
      "62/62 [==============================] - 11s 178ms/step - loss: 8.6925e-04\n",
      "Epoch 44/50\n",
      "62/62 [==============================] - 12s 192ms/step - loss: 9.1982e-04\n",
      "Epoch 45/50\n",
      "62/62 [==============================] - 11s 180ms/step - loss: 7.5661e-04\n",
      "Epoch 46/50\n",
      "62/62 [==============================] - 11s 179ms/step - loss: 7.9864e-04\n",
      "Epoch 47/50\n",
      "62/62 [==============================] - 12s 186ms/step - loss: 8.1903e-04\n",
      "Epoch 48/50\n",
      "62/62 [==============================] - 11s 184ms/step - loss: 0.0011\n",
      "Epoch 49/50\n",
      "62/62 [==============================] - 11s 178ms/step - loss: 0.0010\n",
      "Epoch 50/50\n",
      "62/62 [==============================] - 11s 182ms/step - loss: 8.1309e-04\n"
     ]
    },
    {
     "data": {
      "text/plain": [
       "<keras.callbacks.History at 0x2e2dcde51b0>"
      ]
     },
     "execution_count": 33,
     "metadata": {},
     "output_type": "execute_result"
    }
   ],
   "source": [
    "model.fit(X_train,y_train,epochs=50,batch_size=32) #ytrain hiya labels "
   ]
  },
  {
   "cell_type": "code",
   "execution_count": 27,
   "id": "75cc5bf6",
   "metadata": {},
   "outputs": [
    {
     "name": "stderr",
     "output_type": "stream",
     "text": [
      "C:\\Users\\Imane\\AppData\\Local\\Temp\\ipykernel_17804\\4094905049.py:5: FutureWarning: The behavior of `series[i:j]` with an integer-dtype index is deprecated. In a future version, this will be treated as *label-based* indexing, consistent with e.g. `series[i]` lookups. To retain the old behavior, use `series.iloc[i:j]`. To get the future behavior, use `series.loc[i:j]`.\n",
      "  inputs = dataset_total[len(dataset_total) - len(dataset_test) - 60:].values\n"
     ]
    },
    {
     "name": "stdout",
     "output_type": "stream",
     "text": [
      "1/1 [==============================] - 0s 269ms/step\n"
     ]
    }
   ],
   "source": [
    "url = 'https://raw.githubusercontent.com/mwitiderrick/stockprice/master/tatatest.csv'\n",
    "dataset_test = pd.read_csv(url)\n",
    "real_stock_price = dataset_test.iloc[:, 1:2].values\n",
    "dataset_total = pd.concat((dataset_train['Open'], dataset_test['Open']), axis = 0) #ranhtaj 60 jrs avant dakshi elash drna combinaison \n",
    "inputs = dataset_total[len(dataset_total) - len(dataset_test) - 60:].values\n",
    "inputs = inputs.reshape(-1,1)#unkknown dimension hiya -1\n",
    "inputs = sc.transform(inputs)\n",
    "X_test = []\n",
    "for i in range(60, 76):\n",
    "    X_test.append(inputs[i-60:i, 0]) # 0 wla bd test - 60\n",
    "X_test = np.array(X_test)\n",
    "X_test = np.reshape(X_test, (X_test.shape[0], X_test.shape[1], 1))\n",
    "\n",
    "predicted_stock_price = model.predict(X_test)"
   ]
  },
  {
   "cell_type": "code",
   "execution_count": 21,
   "id": "a07c0c17",
   "metadata": {},
   "outputs": [
    {
     "data": {
      "image/png": "[encoded data removed]",
      "text/plain": [
       "<Figure size 640x480 with 1 Axes>"
      ]
     },
     "metadata": {},
     "output_type": "display_data"
    }
   ],
   "source": [
    "predicted_stock_price = sc.inverse_transform(predicted_stock_price)\n",
    "plt.plot(real_stock_price, color = 'black', label = 'TATA Stock Price')\n",
    "plt.plot(predicted_stock_price, color = 'green', label = 'Predicted TATA Stock Price')\n",
    "plt.title('TATA Stock Price Prediction')\n",
    "plt.xlabel('Time')\n",
    "plt.ylabel('TATA Stock Price')\n",
    "plt.legend()\n",
    "plt.show()"
   ]
  },
  {
   "cell_type": "code",
   "execution_count": null,
   "id": "cd0df71c",
   "metadata": {},
   "outputs": [],
   "source": []
  }
 ],
 "metadata": {
  "kernelspec": {
   "display_name": "Python 3 (ipykernel)",
   "language": "python",
   "name": "python3"
  },
  "language_info": {
   "codemirror_mode": {
    "name": "ipython",
    "version": 3
   },
   "file_extension": ".py",
   "mimetype": "text/x-python",
   "name": "python",
   "nbconvert_exporter": "python",
   "pygments_lexer": "ipython3",
   "version": "3.10.6"
  }
 },
 "nbformat": 4,
 "nbformat_minor": 5
}
